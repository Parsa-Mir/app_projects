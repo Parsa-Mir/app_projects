{
 "cells": [
  {
   "cell_type": "code",
   "execution_count": 1,
   "metadata": {},
   "outputs": [],
   "source": [
    "from langchain_community.vectorstores import DuckDB\n",
    "\n",
    "import duckdb\n",
    "\n",
    "\n",
    "\n",
    "\n",
    "\n",
    "import getpass\n",
    "import os\n",
    "\n",
    "# if __name__ == \"__main__\":  \n",
    "    # loader = CSVLoader(\"test.csv\")\n",
    "    # documents = loader.load()\n",
    "    # documents = CharacterTextSplitter().split_documents(documents)\n",
    "    # embeddings = OpenAIEmbeddings()\n",
    "conn = duckdb.connect(database='./data/test.db',\n",
    "config={\n",
    "        \"enable_external_access\": \"false\",\n",
    "        \"autoinstall_known_extensions\": \"false\",\n",
    "        \"autoload_known_extensions\": \"false\"\n",
    "    }\n",
    ")\n",
    "\n",
    "\n"
   ]
  },
  {
   "cell_type": "code",
   "execution_count": 2,
   "metadata": {},
   "outputs": [
    {
     "name": "stdout",
     "output_type": "stream",
     "text": [
      "May 12, 2025 > 14:18:37 |  pyapp.model_connection.model : 12 |  \u001b[1m ℹ️ INFO  |  Searching for config file appdeps.toml \u001b[0m \n",
      "May 12, 2025 > 14:18:37 |  pyapp.model_connection.model : 14 |  \u001b[34m\u001b[1m 🐞 DEBUG  |  Checking /Users/parsa/Desk/projects/university/slmops-project/slmops-thesis/app_projects/projects/py/projects/airplane_simple_retriever/notebooks/../appdeps.toml \u001b[0m \n"
     ]
    }
   ],
   "source": [
    "import lancedb\n",
    "from pyapp.vectordb import VectorStore\n",
    "from langchain_community.document_loaders import TextLoader\n",
    "from langchain_text_splitters import CharacterTextSplitter\n",
    "from pyapp.model_connection.model import get_model_embeddings_from_config_dir\n",
    "from pathlib import Path\n",
    "from langchain_openai import OpenAIEmbeddings\n",
    "here = Path(\"./\").resolve()\n",
    "embeddings = get_model_embeddings_from_config_dir(here / \"../\")\n",
    "loader = TextLoader(here / \"test.txt\")\n",
    "documents = loader.load()\n",
    "# embeddings = OpenAIEmbeddings()\n",
    "documents = CharacterTextSplitter().split_documents(documents)\n",
    "vector_store = DuckDB(connection=conn , embedding=embeddings , table_name='airplane_agency')\n",
    "\n"
   ]
  },
  {
   "cell_type": "code",
   "execution_count": 15,
   "metadata": {},
   "outputs": [
    {
     "data": {
      "text/plain": [
       "['7fe3df55-5a1c-40e3-807f-bce5314a7805',\n",
       " 'bdb2fdce-5bd8-490a-9534-4a8baa047f2b']"
      ]
     },
     "execution_count": 15,
     "metadata": {},
     "output_type": "execute_result"
    }
   ],
   "source": [
    "vector_store.add_texts(['text1', 'text2'])"
   ]
  },
  {
   "cell_type": "code",
   "execution_count": 19,
   "metadata": {},
   "outputs": [
    {
     "data": {
      "text/plain": [
       "['49e9723e-6e7e-490b-b846-4de29ce17d24']"
      ]
     },
     "execution_count": 19,
     "metadata": {},
     "output_type": "execute_result"
    }
   ],
   "source": [
    "vector_store.add_documents(documents)"
   ]
  },
  {
   "cell_type": "code",
   "execution_count": 3,
   "metadata": {},
   "outputs": [],
   "source": [
    "# docsearch = vector_store.from_documents(documents, embeddings)\n",
    "query = \"What did the president say about Ketanji Brown Jackson\"\n",
    "docs = vector_store.similarity_search(query)"
   ]
  },
  {
   "cell_type": "code",
   "execution_count": 4,
   "metadata": {},
   "outputs": [
    {
     "data": {
      "text/plain": [
       "[Document(metadata={'source': '/Users/parsa/Desk/projects/university/slmops-project/slmops-thesis/app_projects/projects/py/projects/airplane_simple_retriever/notebooks/test.txt', '_similarity_score': 0.6207716835281156}, page_content='Q: What is the primary function of an airplane agency?\\nA: The primary function of an airplane agency is to manage and oversee the operations of airlines, including scheduling flights, managing bookings, and ensuring compliance with aviation regulations.\\n\\nQ: How do airplane agencies ensure passenger safety?\\nA: Airplane agencies ensure passenger safety by adhering to strict safety protocols, conducting regular maintenance checks on aircraft, and providing thorough training for pilots and crew members.\\n\\nQ: What role do airplane agencies play in flight scheduling?\\nA: Airplane agencies are responsible for coordinating flight schedules, ensuring optimal use of aircraft and crew, and minimizing delays to provide efficient service to passengers.\\n\\nQ: How do airplane agencies handle customer service?\\nA: Airplane agencies handle customer service by providing support for booking inquiries, managing flight changes or cancellations, and addressing passenger concerns or complaints.\\n\\nQ: What technology do airplane agencies use to manage operations?\\nA: Airplane agencies use advanced software systems for flight management, customer relationship management (CRM) tools, and data analytics to optimize operations and improve customer experience.')]"
      ]
     },
     "execution_count": 4,
     "metadata": {},
     "output_type": "execute_result"
    }
   ],
   "source": [
    "docs"
   ]
  },
  {
   "cell_type": "code",
   "execution_count": 2,
   "metadata": {},
   "outputs": [],
   "source": [
    "# db_url = here / \"data/samplelance\" # url of db you created\n",
    "\n",
    "# vector_store = VectorStore(\n",
    "#     uri=db_url,\n",
    "#     embedding=embeddings,\n",
    "#     table_name='airplane_agency'\n",
    "#     )"
   ]
  },
  {
   "cell_type": "code",
   "execution_count": 12,
   "metadata": {},
   "outputs": [
    {
     "ename": "AttributeError",
     "evalue": "type object 'list' has no attribute 'add_texts'",
     "output_type": "error",
     "traceback": [
      "\u001b[31m---------------------------------------------------------------------------\u001b[39m",
      "\u001b[31mAttributeError\u001b[39m                            Traceback (most recent call last)",
      "\u001b[36mCell\u001b[39m\u001b[36m \u001b[39m\u001b[32mIn[12]\u001b[39m\u001b[32m, line 5\u001b[39m\n\u001b[32m      1\u001b[39m \u001b[38;5;28;01mfrom\u001b[39;00m\u001b[38;5;250m \u001b[39m\u001b[34;01mlancedb\u001b[39;00m\u001b[34;01m.\u001b[39;00m\u001b[34;01mrerankers\u001b[39;00m\u001b[38;5;250m \u001b[39m\u001b[38;5;28;01mimport\u001b[39;00m LinearCombinationReranker\n\u001b[32m      3\u001b[39m reranker = LinearCombinationReranker(weight=\u001b[32m0.3\u001b[39m)\n\u001b[32m----> \u001b[39m\u001b[32m5\u001b[39m docsearch = \u001b[43mVectorStore\u001b[49m\u001b[43m.\u001b[49m\u001b[43madd_documents\u001b[49m\u001b[43m(\u001b[49m\u001b[43mdocuments\u001b[49m\u001b[43m,\u001b[49m\u001b[43m \u001b[49m\u001b[43membeddings\u001b[49m\u001b[43m,\u001b[49m\u001b[43m \u001b[49m\u001b[43mreranker\u001b[49m\u001b[43m=\u001b[49m\u001b[43mreranker\u001b[49m\u001b[43m)\u001b[49m\n\u001b[32m      6\u001b[39m query = \u001b[33m\"\u001b[39m\u001b[33mWhat did the president say about Ketanji Brown Jackson\u001b[39m\u001b[33m\"\u001b[39m\n",
      "\u001b[36mFile \u001b[39m\u001b[32m~/Desk/projects/university/slmops-project/slmops-thesis/app_projects/projects/py/projects/airplane_simple_retriever/.venv/lib/python3.12/site-packages/langchain_core/vectorstores/base.py:277\u001b[39m, in \u001b[36mVectorStore.add_documents\u001b[39m\u001b[34m(self, documents, **kwargs)\u001b[39m\n\u001b[32m    262\u001b[39m \u001b[38;5;28;01mdef\u001b[39;00m\u001b[38;5;250m \u001b[39m\u001b[34madd_documents\u001b[39m(\u001b[38;5;28mself\u001b[39m, documents: \u001b[38;5;28mlist\u001b[39m[Document], **kwargs: Any) -> \u001b[38;5;28mlist\u001b[39m[\u001b[38;5;28mstr\u001b[39m]:\n\u001b[32m    263\u001b[39m \u001b[38;5;250m    \u001b[39m\u001b[33;03m\"\"\"Add or update documents in the vectorstore.\u001b[39;00m\n\u001b[32m    264\u001b[39m \n\u001b[32m    265\u001b[39m \u001b[33;03m    Args:\u001b[39;00m\n\u001b[32m   (...)\u001b[39m\u001b[32m    275\u001b[39m \u001b[33;03m        ValueError: If the number of ids does not match the number of documents.\u001b[39;00m\n\u001b[32m    276\u001b[39m \u001b[33;03m    \"\"\"\u001b[39;00m\n\u001b[32m--> \u001b[39m\u001b[32m277\u001b[39m     \u001b[38;5;28;01mif\u001b[39;00m \u001b[38;5;28;43mtype\u001b[39;49m\u001b[43m(\u001b[49m\u001b[38;5;28;43mself\u001b[39;49m\u001b[43m)\u001b[49m\u001b[43m.\u001b[49m\u001b[43madd_texts\u001b[49m != VectorStore.add_texts:\n\u001b[32m    278\u001b[39m         \u001b[38;5;28;01mif\u001b[39;00m \u001b[33m\"\u001b[39m\u001b[33mids\u001b[39m\u001b[33m\"\u001b[39m \u001b[38;5;129;01mnot\u001b[39;00m \u001b[38;5;129;01min\u001b[39;00m kwargs:\n\u001b[32m    279\u001b[39m             ids = [doc.id \u001b[38;5;28;01mfor\u001b[39;00m doc \u001b[38;5;129;01min\u001b[39;00m documents]\n",
      "\u001b[31mAttributeError\u001b[39m: type object 'list' has no attribute 'add_texts'"
     ]
    }
   ],
   "source": [
    "from lancedb.rerankers import LinearCombinationReranker\n",
    "\n",
    "reranker = LinearCombinationReranker(weight=0.3)\n",
    "\n",
    "docsearch = VectorStore.add_documents(documents, embeddings, reranker=reranker)\n",
    "query = \"What did the president say about Ketanji Brown Jackson\""
   ]
  },
  {
   "cell_type": "code",
   "execution_count": 4,
   "metadata": {},
   "outputs": [
    {
     "name": "stdout",
     "output_type": "stream",
     "text": [
      "relevance score -  0.46369024568390926\n",
      "text-  Q: What is the primary function of an airplane agency?\n",
      "A: The primary function of an airplane agency is to manage and oversee the operations of airlines, including scheduling flights, managing bookings, and ensuring compliance with aviation regulations.\n",
      "\n",
      "Q: How do airplane agencies ensure passenger safety?\n",
      "A: Airplane agencies ensure passenger safety by adhering to strict safety protocols, conducting regular maintenance checks on aircraft, and providing thorough training for pilots and crew members.\n",
      "\n",
      "Q: What role do airplane agencies play in flight scheduling?\n",
      "A: Airplane agencies are responsible for coordinating flight schedules, ensuring optimal use of aircraft and crew, and minimizing delays to provide efficient service to passengers.\n",
      "\n",
      "Q: How do airplane agencies handle customer service?\n",
      "A: Airplane agencies handle customer service by providing support for booking inquiries, managing flight changes or cancellations, and addressing passenger concerns or complaints.\n",
      "\n",
      "Q: What technolog\n"
     ]
    }
   ],
   "source": [
    "query = \"What did the president say about Ketanji Brown Jackson\"\n",
    "docs = docsearch.similarity_search_with_relevance_scores(query)\n",
    "print(\"relevance score - \", docs[0][1])\n",
    "print(\"text- \", docs[0][0].page_content[:1000])"
   ]
  },
  {
   "cell_type": "code",
   "execution_count": null,
   "metadata": {},
   "outputs": [],
   "source": []
  }
 ],
 "metadata": {
  "kernelspec": {
   "display_name": ".venv",
   "language": "python",
   "name": "python3"
  },
  "language_info": {
   "codemirror_mode": {
    "name": "ipython",
    "version": 3
   },
   "file_extension": ".py",
   "mimetype": "text/x-python",
   "name": "python",
   "nbconvert_exporter": "python",
   "pygments_lexer": "ipython3",
   "version": "3.12.7"
  }
 },
 "nbformat": 4,
 "nbformat_minor": 2
}
