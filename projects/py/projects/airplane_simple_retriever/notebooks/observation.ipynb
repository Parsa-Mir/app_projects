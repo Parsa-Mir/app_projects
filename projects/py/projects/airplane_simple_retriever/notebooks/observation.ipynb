{
 "cells": [
  {
   "cell_type": "markdown",
   "metadata": {},
   "source": [
    "## get embedding model"
   ]
  },
  {
   "cell_type": "code",
   "execution_count": 1,
   "metadata": {},
   "outputs": [
    {
     "name": "stdout",
     "output_type": "stream",
     "text": [
      "May 14, 2025 > 11:40:26 |  pyapp.utils.config : 10 |  \u001b[1m ℹ️ INFO  |  Searching for config file appdeps.toml \u001b[0m \n",
      "May 14, 2025 > 11:40:26 |  pyapp.utils.config : 12 |  \u001b[34m\u001b[1m 🐞 DEBUG  |  Checking /Users/parsa/Desk/projects/university/slmops-project/slmops-thesis/app_projects/projects/py/projects/airplane_simple_retriever/notebooks/../appdeps.toml \u001b[0m \n"
     ]
    }
   ],
   "source": [
    "from pyapp.model_connection.model import  get_model_embeddings_from_config_dir\n",
    "from pathlib import Path\n",
    "here = Path(\"./\").resolve()\n",
    "config_dir = here / \"../\"\n",
    "model = get_model_embeddings_from_config_dir(config_dir=config_dir)\n",
    "\n",
    "\n"
   ]
  },
  {
   "cell_type": "markdown",
   "metadata": {},
   "source": [
    "## ingest and store"
   ]
  },
  {
   "cell_type": "code",
   "execution_count": 6,
   "metadata": {},
   "outputs": [
    {
     "data": {
      "text/plain": [
       "PosixPath('/Users/parsa/Desk/projects/university/slmops-project/slmops-thesis/app_projects/projects/py/projects/airplane_simple_retriever/data/raw_data')"
      ]
     },
     "execution_count": 6,
     "metadata": {},
     "output_type": "execute_result"
    }
   ],
   "source": [
    "raw_data_path.resolve()"
   ]
  },
  {
   "cell_type": "code",
   "execution_count": 8,
   "metadata": {},
   "outputs": [
    {
     "data": {
      "text/plain": [
       "[Document(metadata={'source': '/Users/parsa/Desk/projects/university/slmops-project/slmops-thesis/app_projects/projects/py/projects/airplane_simple_retriever/data/raw_data/test.csv', 'row': 0}, page_content='data: i feel good\\n: '),\n",
       " Document(metadata={'source': '/Users/parsa/Desk/projects/university/slmops-project/slmops-thesis/app_projects/projects/py/projects/airplane_simple_retriever/data/raw_data/test.csv', 'row': 1}, page_content='data: i feel bad\\n: '),\n",
       " Document(metadata={'source': '/Users/parsa/Desk/projects/university/slmops-project/slmops-thesis/app_projects/projects/py/projects/airplane_simple_retriever/data/raw_data/test.csv', 'row': 2}, page_content='data: the capital of france is paris\\n: '),\n",
       " Document(metadata={'source': '/Users/parsa/Desk/projects/university/slmops-project/slmops-thesis/app_projects/projects/py/projects/airplane_simple_retriever/data/raw_data/test.csv', 'row': 3}, page_content='data: good food\\n: ')]"
      ]
     },
     "execution_count": 8,
     "metadata": {},
     "output_type": "execute_result"
    }
   ],
   "source": [
    "from pyapp.vectordb import get_vector_store\n",
    "vector_store_path = here / \"../data/vectordb/test.db\"\n",
    "raw_data_path = here / \"../data/raw_data/test.csv\"\n",
    "table_name = \"test\"\n",
    "vector_store , conn = get_vector_store(database_path= str(vector_store_path) , table_name=table_name , embedding_model=model)\n",
    "\n",
    "from langchain_community.document_loaders.csv_loader import CSVLoader\n",
    "loader = CSVLoader(file_path=str(raw_data_path.resolve()))\n",
    "data = loader.load()\n",
    "data\n"
   ]
  },
  {
   "cell_type": "code",
   "execution_count": 9,
   "metadata": {},
   "outputs": [
    {
     "data": {
      "text/plain": [
       "['8b8ab1b5-b9e6-413c-8d96-ff8585b33e08',\n",
       " '1ab4ccfb-48f9-44bc-a92e-c842b6c76e0d',\n",
       " '8ba1c660-db10-484e-accb-9abf41e89402',\n",
       " '7a7717e3-94dc-4e14-9c38-d3a0be64a605']"
      ]
     },
     "execution_count": 9,
     "metadata": {},
     "output_type": "execute_result"
    }
   ],
   "source": [
    "vector_store.add_documents(data)\n"
   ]
  },
  {
   "cell_type": "code",
   "execution_count": 12,
   "metadata": {},
   "outputs": [
    {
     "data": {
      "text/plain": [
       "'data: the capital of france is paris\\n: '"
      ]
     },
     "execution_count": 12,
     "metadata": {},
     "output_type": "execute_result"
    }
   ],
   "source": [
    "query = \"what is the capital of france?\"\n",
    "vector_store.similarity_search(query , k=1)[0].page_content\n",
    "\n",
    "\n",
    "\n",
    "\n"
   ]
  },
  {
   "cell_type": "markdown",
   "metadata": {},
   "source": [
    "## with observation"
   ]
  },
  {
   "cell_type": "code",
   "execution_count": 22,
   "metadata": {},
   "outputs": [],
   "source": [
    "from pyapp.observation.phoneix import traced_agent\n",
    "\n",
    "retriever = vector_store.as_retriever(search_kwargs={\"k\": 1})\n",
    "\n",
    "@traced_agent(name=\"airplane-simple-retriever\")\n",
    "def agent(messages: list[dict], session_id: str) -> str:\n",
    "    question = messages[-1][\"content\"]\n",
    "    return retriever.invoke(question)\n"
   ]
  },
  {
   "cell_type": "code",
   "execution_count": 23,
   "metadata": {},
   "outputs": [
    {
     "name": "stderr",
     "output_type": "stream",
     "text": [
      "Invalid type Document in attribute 'output.value' value sequence. Expected one of ['bool', 'str', 'bytes', 'int', 'float'] or None\n"
     ]
    },
    {
     "name": "stdout",
     "output_type": "stream",
     "text": [
      "[Document(metadata={'source': '/Users/parsa/Desk/projects/university/slmops-project/slmops-thesis/app_projects/projects/py/projects/airplane_simple_retriever/data/raw_data/test.csv', 'row': 2, '_similarity_score': 0.9098639438966993}, page_content='data: the capital of france is paris\\n: ')]\n",
      "http://localhost:6006/projects/UHJvamVjdDoy/traces/84c839e0eaa034dd23039b7d2b5fb5ae?selectedSpanNodeId=U3Bhbjoy\n"
     ]
    }
   ],
   "source": [
    "import uuid\n",
    "session_id = str(uuid.uuid4())\n",
    "\n",
    "messages = [\n",
    "  {\"role\": \"user\", \"content\": \"what is the capital of france?\"}\n",
    "]\n",
    "answer, link = agent(messages, session_id)\n",
    "\n",
    "print(answer)\n",
    "print(link)"
   ]
  },
  {
   "cell_type": "code",
   "execution_count": 12,
   "metadata": {},
   "outputs": [
    {
     "ename": "ModuleNotFoundError",
     "evalue": "No module named 'pyapp.observation.phoenix'",
     "output_type": "error",
     "traceback": [
      "\u001b[31m---------------------------------------------------------------------------\u001b[39m",
      "\u001b[31mModuleNotFoundError\u001b[39m                       Traceback (most recent call last)",
      "\u001b[36mCell\u001b[39m\u001b[36m \u001b[39m\u001b[32mIn[12]\u001b[39m\u001b[32m, line 1\u001b[39m\n\u001b[32m----> \u001b[39m\u001b[32m1\u001b[39m \u001b[38;5;28;01mfrom\u001b[39;00m\u001b[38;5;250m \u001b[39m\u001b[34;01mpyapp\u001b[39;00m\u001b[34;01m.\u001b[39;00m\u001b[34;01mobservation\u001b[39;00m\u001b[34;01m.\u001b[39;00m\u001b[34;01mphoenix\u001b[39;00m\u001b[38;5;250m \u001b[39m\u001b[38;5;28;01mimport\u001b[39;00m observation\n",
      "\u001b[31mModuleNotFoundError\u001b[39m: No module named 'pyapp.observation.phoenix'"
     ]
    }
   ],
   "source": [
    "from pyapp.observation.phoenix import observation\n"
   ]
  },
  {
   "cell_type": "code",
   "execution_count": null,
   "metadata": {},
   "outputs": [],
   "source": []
  }
 ],
 "metadata": {
  "kernelspec": {
   "display_name": ".venv",
   "language": "python",
   "name": "python3"
  },
  "language_info": {
   "codemirror_mode": {
    "name": "ipython",
    "version": 3
   },
   "file_extension": ".py",
   "mimetype": "text/x-python",
   "name": "python",
   "nbconvert_exporter": "python",
   "pygments_lexer": "ipython3",
   "version": "3.12.7"
  }
 },
 "nbformat": 4,
 "nbformat_minor": 2
}
